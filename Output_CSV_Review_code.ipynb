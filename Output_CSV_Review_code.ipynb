{
 "cells": [
  {
   "cell_type": "code",
   "execution_count": 1,
   "id": "a256b3ab",
   "metadata": {
    "ExecuteTime": {
     "end_time": "2021-07-19T01:43:45.703366Z",
     "start_time": "2021-07-19T01:43:45.351823Z"
    }
   },
   "outputs": [],
   "source": [
    "import numpy as np\n",
    "import pandas as pd\n",
    "from pathlib import Path\n",
    "from collections import Counter"
   ]
  },
  {
   "cell_type": "code",
   "execution_count": 2,
   "id": "2146f75e",
   "metadata": {
    "ExecuteTime": {
     "end_time": "2021-07-19T01:45:46.704633Z",
     "start_time": "2021-07-19T01:43:48.225240Z"
    }
   },
   "outputs": [
    {
     "data": {
      "text/html": [
       "<div>\n",
       "<style scoped>\n",
       "    .dataframe tbody tr th:only-of-type {\n",
       "        vertical-align: middle;\n",
       "    }\n",
       "\n",
       "    .dataframe tbody tr th {\n",
       "        vertical-align: top;\n",
       "    }\n",
       "\n",
       "    .dataframe thead th {\n",
       "        text-align: right;\n",
       "    }\n",
       "</style>\n",
       "<table border=\"1\" class=\"dataframe\">\n",
       "  <thead>\n",
       "    <tr style=\"text-align: right;\">\n",
       "      <th></th>\n",
       "      <th>Unnamed: 0</th>\n",
       "      <th>IsFraud?</th>\n",
       "      <th>Amount</th>\n",
       "      <th>Card</th>\n",
       "      <th>Year</th>\n",
       "      <th>Month</th>\n",
       "      <th>Day</th>\n",
       "      <th>MCC</th>\n",
       "      <th>Chip Transaction</th>\n",
       "      <th>Online Transaction</th>\n",
       "      <th>Swipe Transaction</th>\n",
       "    </tr>\n",
       "  </thead>\n",
       "  <tbody>\n",
       "    <tr>\n",
       "      <th>0</th>\n",
       "      <td>0</td>\n",
       "      <td>0.0</td>\n",
       "      <td>NaN</td>\n",
       "      <td>NaN</td>\n",
       "      <td>NaN</td>\n",
       "      <td>NaN</td>\n",
       "      <td>NaN</td>\n",
       "      <td>NaN</td>\n",
       "      <td>NaN</td>\n",
       "      <td>NaN</td>\n",
       "      <td>NaN</td>\n",
       "    </tr>\n",
       "    <tr>\n",
       "      <th>1</th>\n",
       "      <td>1</td>\n",
       "      <td>0.0</td>\n",
       "      <td>NaN</td>\n",
       "      <td>NaN</td>\n",
       "      <td>NaN</td>\n",
       "      <td>NaN</td>\n",
       "      <td>NaN</td>\n",
       "      <td>NaN</td>\n",
       "      <td>NaN</td>\n",
       "      <td>NaN</td>\n",
       "      <td>NaN</td>\n",
       "    </tr>\n",
       "    <tr>\n",
       "      <th>2</th>\n",
       "      <td>2</td>\n",
       "      <td>0.0</td>\n",
       "      <td>NaN</td>\n",
       "      <td>NaN</td>\n",
       "      <td>NaN</td>\n",
       "      <td>NaN</td>\n",
       "      <td>NaN</td>\n",
       "      <td>NaN</td>\n",
       "      <td>NaN</td>\n",
       "      <td>NaN</td>\n",
       "      <td>NaN</td>\n",
       "    </tr>\n",
       "    <tr>\n",
       "      <th>3</th>\n",
       "      <td>3</td>\n",
       "      <td>0.0</td>\n",
       "      <td>NaN</td>\n",
       "      <td>NaN</td>\n",
       "      <td>NaN</td>\n",
       "      <td>NaN</td>\n",
       "      <td>NaN</td>\n",
       "      <td>NaN</td>\n",
       "      <td>NaN</td>\n",
       "      <td>NaN</td>\n",
       "      <td>NaN</td>\n",
       "    </tr>\n",
       "    <tr>\n",
       "      <th>4</th>\n",
       "      <td>4</td>\n",
       "      <td>0.0</td>\n",
       "      <td>NaN</td>\n",
       "      <td>NaN</td>\n",
       "      <td>NaN</td>\n",
       "      <td>NaN</td>\n",
       "      <td>NaN</td>\n",
       "      <td>NaN</td>\n",
       "      <td>NaN</td>\n",
       "      <td>NaN</td>\n",
       "      <td>NaN</td>\n",
       "    </tr>\n",
       "    <tr>\n",
       "      <th>...</th>\n",
       "      <td>...</td>\n",
       "      <td>...</td>\n",
       "      <td>...</td>\n",
       "      <td>...</td>\n",
       "      <td>...</td>\n",
       "      <td>...</td>\n",
       "      <td>...</td>\n",
       "      <td>...</td>\n",
       "      <td>...</td>\n",
       "      <td>...</td>\n",
       "      <td>...</td>\n",
       "    </tr>\n",
       "    <tr>\n",
       "      <th>60574835</th>\n",
       "      <td>30287415</td>\n",
       "      <td>NaN</td>\n",
       "      <td>88.41</td>\n",
       "      <td>0.0</td>\n",
       "      <td>2010.0</td>\n",
       "      <td>8.0</td>\n",
       "      <td>10.0</td>\n",
       "      <td>5300.0</td>\n",
       "      <td>0.0</td>\n",
       "      <td>1.0</td>\n",
       "      <td>0.0</td>\n",
       "    </tr>\n",
       "    <tr>\n",
       "      <th>60574836</th>\n",
       "      <td>30287416</td>\n",
       "      <td>NaN</td>\n",
       "      <td>20.88</td>\n",
       "      <td>0.0</td>\n",
       "      <td>2010.0</td>\n",
       "      <td>2.0</td>\n",
       "      <td>2.0</td>\n",
       "      <td>5970.0</td>\n",
       "      <td>0.0</td>\n",
       "      <td>1.0</td>\n",
       "      <td>0.0</td>\n",
       "    </tr>\n",
       "    <tr>\n",
       "      <th>60574837</th>\n",
       "      <td>30287417</td>\n",
       "      <td>NaN</td>\n",
       "      <td>97.15</td>\n",
       "      <td>3.0</td>\n",
       "      <td>2019.0</td>\n",
       "      <td>1.0</td>\n",
       "      <td>15.0</td>\n",
       "      <td>5211.0</td>\n",
       "      <td>1.0</td>\n",
       "      <td>0.0</td>\n",
       "      <td>0.0</td>\n",
       "    </tr>\n",
       "    <tr>\n",
       "      <th>60574838</th>\n",
       "      <td>30287418</td>\n",
       "      <td>NaN</td>\n",
       "      <td>88.08</td>\n",
       "      <td>4.0</td>\n",
       "      <td>2010.0</td>\n",
       "      <td>12.0</td>\n",
       "      <td>9.0</td>\n",
       "      <td>4121.0</td>\n",
       "      <td>0.0</td>\n",
       "      <td>1.0</td>\n",
       "      <td>0.0</td>\n",
       "    </tr>\n",
       "    <tr>\n",
       "      <th>60574839</th>\n",
       "      <td>30287419</td>\n",
       "      <td>NaN</td>\n",
       "      <td>1.02</td>\n",
       "      <td>5.0</td>\n",
       "      <td>2012.0</td>\n",
       "      <td>5.0</td>\n",
       "      <td>13.0</td>\n",
       "      <td>5651.0</td>\n",
       "      <td>0.0</td>\n",
       "      <td>0.0</td>\n",
       "      <td>1.0</td>\n",
       "    </tr>\n",
       "  </tbody>\n",
       "</table>\n",
       "<p>60574840 rows × 11 columns</p>\n",
       "</div>"
      ],
      "text/plain": [
       "          Unnamed: 0  IsFraud?  Amount  Card    Year  Month   Day     MCC  \\\n",
       "0                  0       0.0     NaN   NaN     NaN    NaN   NaN     NaN   \n",
       "1                  1       0.0     NaN   NaN     NaN    NaN   NaN     NaN   \n",
       "2                  2       0.0     NaN   NaN     NaN    NaN   NaN     NaN   \n",
       "3                  3       0.0     NaN   NaN     NaN    NaN   NaN     NaN   \n",
       "4                  4       0.0     NaN   NaN     NaN    NaN   NaN     NaN   \n",
       "...              ...       ...     ...   ...     ...    ...   ...     ...   \n",
       "60574835    30287415       NaN   88.41   0.0  2010.0    8.0  10.0  5300.0   \n",
       "60574836    30287416       NaN   20.88   0.0  2010.0    2.0   2.0  5970.0   \n",
       "60574837    30287417       NaN   97.15   3.0  2019.0    1.0  15.0  5211.0   \n",
       "60574838    30287418       NaN   88.08   4.0  2010.0   12.0   9.0  4121.0   \n",
       "60574839    30287419       NaN    1.02   5.0  2012.0    5.0  13.0  5651.0   \n",
       "\n",
       "          Chip Transaction  Online Transaction  Swipe Transaction  \n",
       "0                      NaN                 NaN                NaN  \n",
       "1                      NaN                 NaN                NaN  \n",
       "2                      NaN                 NaN                NaN  \n",
       "3                      NaN                 NaN                NaN  \n",
       "4                      NaN                 NaN                NaN  \n",
       "...                    ...                 ...                ...  \n",
       "60574835               0.0                 1.0                0.0  \n",
       "60574836               0.0                 1.0                0.0  \n",
       "60574837               1.0                 0.0                0.0  \n",
       "60574838               0.0                 1.0                0.0  \n",
       "60574839               0.0                 0.0                1.0  \n",
       "\n",
       "[60574840 rows x 11 columns]"
      ]
     },
     "execution_count": 2,
     "metadata": {},
     "output_type": "execute_result"
    }
   ],
   "source": [
    "file_path = Path('Output_df.csv')\n",
    "new_df = pd.read_csv(file_path)\n",
    "new_df"
   ]
  },
  {
   "cell_type": "code",
   "execution_count": 3,
   "id": "bb7de882",
   "metadata": {
    "ExecuteTime": {
     "end_time": "2021-07-19T01:48:15.233087Z",
     "start_time": "2021-07-19T01:48:14.490701Z"
    }
   },
   "outputs": [
    {
     "data": {
      "text/plain": [
       "0.0    15143710\n",
       "1.0    15143710\n",
       "Name: IsFraud?, dtype: int64"
      ]
     },
     "execution_count": 3,
     "metadata": {},
     "output_type": "execute_result"
    }
   ],
   "source": [
    "new_df['IsFraud?'].value_counts()"
   ]
  },
  {
   "cell_type": "code",
   "execution_count": 4,
   "id": "eb53ca57",
   "metadata": {
    "ExecuteTime": {
     "end_time": "2021-07-19T01:50:25.474517Z",
     "start_time": "2021-07-19T01:50:22.978095Z"
    }
   },
   "outputs": [
    {
     "data": {
      "text/plain": [
       "Unnamed: 0                   0\n",
       "IsFraud?              30287420\n",
       "Amount                30287420\n",
       "Card                  30287420\n",
       "Year                  30287420\n",
       "Month                 30287420\n",
       "Day                   30287420\n",
       "MCC                   30287420\n",
       "Chip Transaction      30287420\n",
       "Online Transaction    30287420\n",
       "Swipe Transaction     30287420\n",
       "dtype: int64"
      ]
     },
     "execution_count": 4,
     "metadata": {},
     "output_type": "execute_result"
    }
   ],
   "source": [
    "new_df.isna().sum()"
   ]
  },
  {
   "cell_type": "code",
   "execution_count": 6,
   "id": "65f2140a",
   "metadata": {
    "ExecuteTime": {
     "end_time": "2021-07-19T01:51:26.258024Z",
     "start_time": "2021-07-19T01:51:25.761372Z"
    }
   },
   "outputs": [
    {
     "data": {
      "text/plain": [
       "0.0    22995443\n",
       "1.0     7291977\n",
       "Name: Chip Transaction, dtype: int64"
      ]
     },
     "execution_count": 6,
     "metadata": {},
     "output_type": "execute_result"
    }
   ],
   "source": [
    "new_df['Chip Transaction'].value_counts()"
   ]
  },
  {
   "cell_type": "code",
   "execution_count": 7,
   "id": "fabc0034",
   "metadata": {
    "ExecuteTime": {
     "end_time": "2021-07-19T01:52:01.723175Z",
     "start_time": "2021-07-19T01:52:01.241424Z"
    }
   },
   "outputs": [
    {
     "data": {
      "text/plain": [
       "0.0    18567661\n",
       "1.0    11719759\n",
       "Name: Online Transaction, dtype: int64"
      ]
     },
     "execution_count": 7,
     "metadata": {},
     "output_type": "execute_result"
    }
   ],
   "source": [
    "new_df['Online Transaction'].value_counts()"
   ]
  },
  {
   "cell_type": "code",
   "execution_count": 8,
   "id": "e1078e12",
   "metadata": {
    "ExecuteTime": {
     "end_time": "2021-07-19T01:52:13.430837Z",
     "start_time": "2021-07-19T01:52:12.935163Z"
    }
   },
   "outputs": [
    {
     "data": {
      "text/plain": [
       "0.0    19011736\n",
       "1.0    11275684\n",
       "Name: Swipe Transaction, dtype: int64"
      ]
     },
     "execution_count": 8,
     "metadata": {},
     "output_type": "execute_result"
    }
   ],
   "source": [
    "new_df['Swipe Transaction'].value_counts()"
   ]
  },
  {
   "cell_type": "code",
   "execution_count": 9,
   "id": "a952be80",
   "metadata": {
    "ExecuteTime": {
     "end_time": "2021-07-19T01:52:31.102901Z",
     "start_time": "2021-07-19T01:52:30.594228Z"
    }
   },
   "outputs": [
    {
     "data": {
      "text/plain": [
       "5311.0    3067130\n",
       "5411.0    2231126\n",
       "5300.0    1864924\n",
       "5541.0    1791585\n",
       "5499.0    1775684\n",
       "           ...   \n",
       "7549.0       8088\n",
       "7531.0       7313\n",
       "7276.0       4321\n",
       "8931.0       4169\n",
       "1711.0       3721\n",
       "Name: MCC, Length: 109, dtype: int64"
      ]
     },
     "execution_count": 9,
     "metadata": {},
     "output_type": "execute_result"
    }
   ],
   "source": [
    "new_df['MCC'].value_counts()"
   ]
  },
  {
   "cell_type": "code",
   "execution_count": 10,
   "id": "787fd28d",
   "metadata": {
    "ExecuteTime": {
     "end_time": "2021-07-19T02:03:01.213384Z",
     "start_time": "2021-07-19T02:03:00.785531Z"
    }
   },
   "outputs": [
    {
     "data": {
      "text/plain": [
       "0.0    15143710\n",
       "1.0    15143710\n",
       "Name: IsFraud?, dtype: int64"
      ]
     },
     "execution_count": 10,
     "metadata": {},
     "output_type": "execute_result"
    }
   ],
   "source": [
    "new_df['IsFraud?'].value_counts()"
   ]
  },
  {
   "cell_type": "code",
   "execution_count": 17,
   "id": "fc8cf576",
   "metadata": {
    "ExecuteTime": {
     "end_time": "2021-07-19T02:07:41.747966Z",
     "start_time": "2021-07-19T02:07:35.713582Z"
    }
   },
   "outputs": [
    {
     "name": "stdout",
     "output_type": "stream",
     "text": [
      "nan Series([], Name: IsFraud?, dtype: int64)\n",
      "2013.0 Series([], Name: IsFraud?, dtype: int64)\n",
      "2017.0 Series([], Name: IsFraud?, dtype: int64)\n",
      "2007.0 Series([], Name: IsFraud?, dtype: int64)\n",
      "2008.0 Series([], Name: IsFraud?, dtype: int64)\n",
      "2015.0 Series([], Name: IsFraud?, dtype: int64)\n",
      "2016.0 Series([], Name: IsFraud?, dtype: int64)\n",
      "2014.0 Series([], Name: IsFraud?, dtype: int64)\n",
      "2019.0 Series([], Name: IsFraud?, dtype: int64)\n",
      "2011.0 Series([], Name: IsFraud?, dtype: int64)\n",
      "2012.0 Series([], Name: IsFraud?, dtype: int64)\n",
      "2009.0 Series([], Name: IsFraud?, dtype: int64)\n",
      "2010.0 Series([], Name: IsFraud?, dtype: int64)\n",
      "2018.0 Series([], Name: IsFraud?, dtype: int64)\n"
     ]
    }
   ],
   "source": [
    "for year in new_df['Year'].unique():\n",
    "    print(year, new_df[new_df['Year']==year] ['IsFraud?'].value_counts())"
   ]
  },
  {
   "cell_type": "code",
   "execution_count": null,
   "id": "683ba6b8",
   "metadata": {},
   "outputs": [],
   "source": []
  }
 ],
 "metadata": {
  "kernelspec": {
   "display_name": "mlenv",
   "language": "python",
   "name": "mlenv"
  },
  "language_info": {
   "codemirror_mode": {
    "name": "ipython",
    "version": 3
   },
   "file_extension": ".py",
   "mimetype": "text/x-python",
   "name": "python",
   "nbconvert_exporter": "python",
   "pygments_lexer": "ipython3",
   "version": "3.7.10"
  },
  "toc": {
   "base_numbering": 1,
   "nav_menu": {},
   "number_sections": true,
   "sideBar": true,
   "skip_h1_title": false,
   "title_cell": "Table of Contents",
   "title_sidebar": "Contents",
   "toc_cell": false,
   "toc_position": {},
   "toc_section_display": true,
   "toc_window_display": false
  },
  "varInspector": {
   "cols": {
    "lenName": 16,
    "lenType": 16,
    "lenVar": 40
   },
   "kernels_config": {
    "python": {
     "delete_cmd_postfix": "",
     "delete_cmd_prefix": "del ",
     "library": "var_list.py",
     "varRefreshCmd": "print(var_dic_list())"
    },
    "r": {
     "delete_cmd_postfix": ") ",
     "delete_cmd_prefix": "rm(",
     "library": "var_list.r",
     "varRefreshCmd": "cat(var_dic_list()) "
    }
   },
   "types_to_exclude": [
    "module",
    "function",
    "builtin_function_or_method",
    "instance",
    "_Feature"
   ],
   "window_display": false
  }
 },
 "nbformat": 4,
 "nbformat_minor": 5
}
